{
 "cells": [
  {
   "cell_type": "code",
   "execution_count": 1,
   "id": "b866e1a2",
   "metadata": {},
   "outputs": [],
   "source": [
    "file_path = \"mpesa-statement.pdf\"\n",
    "output_path =  \"mpesa-statement.xlsx\"\n",
    "password = '123456' #One time code received from Safaricom"
   ]
  },
  {
   "cell_type": "code",
   "execution_count": 2,
   "id": "b1fdaa52",
   "metadata": {},
   "outputs": [
    {
     "name": "stdout",
     "output_type": "stream",
     "text": [
      "Data extracted from PDF and saved to mpesa-statement.xlsx\n"
     ]
    }
   ],
   "source": [
    "import camelot\n",
    "import pandas as pd\n",
    "tables = camelot.read_pdf(file_path, flavor='stream', pages='all',password=password)\n",
    "# Combine tables into a single DataFrame\n",
    "df_list = [table.df for table in tables]\n",
    "df = pd.concat(df_list, ignore_index=True)\n",
    "\n",
    "# Save the DataFrame to Excel\n",
    "df.to_excel(output_path, index=False, engine='openpyxl')\n",
    "\n",
    "print(f\"Data extracted from PDF and saved to {output_path}\")"
   ]
  }
 ],
 "metadata": {
  "kernelspec": {
   "display_name": "Python 3 (ipykernel)",
   "language": "python",
   "name": "python3"
  },
  "language_info": {
   "codemirror_mode": {
    "name": "ipython",
    "version": 3
   },
   "file_extension": ".py",
   "mimetype": "text/x-python",
   "name": "python",
   "nbconvert_exporter": "python",
   "pygments_lexer": "ipython3",
   "version": "3.11.5"
  }
 },
 "nbformat": 4,
 "nbformat_minor": 5
}
