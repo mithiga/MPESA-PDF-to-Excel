{
 "cells": [
  {
   "cell_type": "code",
   "execution_count": 4,
   "id": "b866e1a2",
   "metadata": {},
   "outputs": [],
   "source": [
    "file_path = \"mpesa-statement.pdf\"\n",
    "raw_output =  \"mpesa-statement_raw.xlsx\"\n",
    "formatted_output =  \"mpesa-statement_formatted.xlsx\"\n",
    "password = '1234567' #One time code received from Safaricom"
   ]
  },
  {
   "cell_type": "code",
   "execution_count": 6,
   "id": "b1fdaa52",
   "metadata": {},
   "outputs": [
    {
     "name": "stdout",
     "output_type": "stream",
     "text": [
      "Data extracted from PDF and saved to mpesa-statement_raw.xlsx\n"
     ]
    }
   ],
   "source": [
    "#Raw Output Conversion\n",
    "import camelot\n",
    "import pandas as pd\n",
    "tables = camelot.read_pdf(file_path, flavor='stream', pages='all',password=password)\n",
    "# Combine tables into a single DataFrame\n",
    "df_list = [table.df for table in tables]\n",
    "df = pd.concat(df_list, ignore_index=True)\n",
    "\n",
    "# Save the DataFrame to Excel\n",
    "df.to_excel(raw_output, index=False, engine='openpyxl')\n",
    "df.to_csv(raw_output, index=False, engine='openpyxl')\n",
    "\n",
    "print(f\"Data extracted from PDF and saved to {raw_output}\")"
   ]
  },
  {
   "cell_type": "code",
   "execution_count": null,
   "id": "8d7b1847",
   "metadata": {},
   "outputs": [],
   "source": [
    "# Format Raw Output File to Pandas Dataframe and export to Excel\n",
    "# Exclude Empty Rows\n",
    "# Exclude Disclaimers\n",
    "\n",
    "import csv\n",
    "import json\n",
    "import pandas as pd\n",
    "\n",
    "# Read CSV data from the file\n",
    "csv_data = \"\"\n",
    "with open(raw_output.replace(\"xlsx\",\"csv\"), 'r') as file:\n",
    "    print(\"Reading file\")\n",
    "    csv_data = file.read()\n",
    "\n",
    "# Split the CSV data into rows\n",
    "rows = csv_data.split('\\n')\n",
    "\n",
    "# Create a list to hold the JSON objects\n",
    "data_list = []\n",
    "\n",
    "#Initialize variables to store current receipt details\n",
    "current_receipt = None\n",
    "current_details = []\n",
    "\n",
    "# Iterate through the rows and convert to JSON\n",
    "start_row = 3\n",
    "r = 0\n",
    "for row in csv.reader(rows, delimiter=','):\n",
    "    if r < start_row or len(row) == 0 or row[0] == \"Receipt No.\" or 'Disclaimer' in row[0] or \\\n",
    "        'for which it was provided.' in row[0]:\n",
    "        r =r+1\n",
    "        continue\n",
    "    \n",
    "    if row[0]:  # Receipt No. column is not empty\n",
    "        # If there is already a current receipt, save it to the list\n",
    "        if current_receipt:\n",
    "            data_list.append({\n",
    "                'Receipt No.': current_receipt,\n",
    "                'Completion Time': completion_time,\n",
    "                'Details': '\\n'.join(current_details),\n",
    "                'Transaction Status': transaction_status,\n",
    "                'Paid In': paid_in,\n",
    "                'Withdrawn': withdrawn,\n",
    "                'Balance': balance\n",
    "            })\n",
    "        # Update current receipt and reset details\n",
    "        current_receipt = row[0]\n",
    "        completion_time = row[1]\n",
    "        transaction_status = row[3]\n",
    "        paid_in = row[4]\n",
    "        withdrawn = row[5]\n",
    "        balance = row[6]\n",
    "        current_details = [row[2]]\n",
    "    else:\n",
    "        # Append the details to the current receipt\n",
    "        current_details.append(row[2])\n",
    "\n",
    "# Add the last receipt to the list\n",
    "if current_receipt:\n",
    "    data_list.append({\n",
    "        'Receipt No.': current_receipt,\n",
    "        'Completion Time': completion_time,\n",
    "        'Details': '\\n'.join(current_details),\n",
    "        'Transaction Status': transaction_status,\n",
    "        'Paid In': paid_in,\n",
    "        'Withdrawn': withdrawn,\n",
    "        'Balance': balance\n",
    "    })\n",
    "\n",
    "# Convert the list to JSON\n",
    "json_data = json.dumps(data_list, indent=2)\n",
    "\n",
    "# Print the resulting JSON data\n",
    "data_list = json.loads(json_data)\n",
    "\n",
    "df = pd.DataFrame(data_list)\n",
    "df['Paid In'] = pd.to_numeric(df['Paid In'], errors='coerce')\n",
    "df['Withdrawn'] = pd.to_numeric(df['Withdrawn'], errors='coerce')\n",
    "df['Balance'] = pd.to_numeric(df['Balance'], errors='coerce')\n",
    "df = df.fillna(0)\n",
    "df.to_excel(formatted_output,index=False)\n",
    "df.head()"
   ]
  }
 ],
 "metadata": {
  "kernelspec": {
   "display_name": "Python 3 (ipykernel)",
   "language": "python",
   "name": "python3"
  },
  "language_info": {
   "codemirror_mode": {
    "name": "ipython",
    "version": 3
   },
   "file_extension": ".py",
   "mimetype": "text/x-python",
   "name": "python",
   "nbconvert_exporter": "python",
   "pygments_lexer": "ipython3",
   "version": "3.11.5"
  }
 },
 "nbformat": 4,
 "nbformat_minor": 5
}
